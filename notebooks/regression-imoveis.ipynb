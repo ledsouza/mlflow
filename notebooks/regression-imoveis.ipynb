{
 "cells": [
  {
   "cell_type": "markdown",
   "metadata": {},
   "source": [
    "# Modelo de Regressão para Previsão de Preço de Imóveis"
   ]
  },
  {
   "cell_type": "markdown",
   "metadata": {},
   "source": [
    "## Carregando os dados"
   ]
  },
  {
   "cell_type": "code",
   "execution_count": 3,
   "metadata": {},
   "outputs": [
    {
     "data": {
      "text/html": [
       "<div>\n",
       "<style scoped>\n",
       "    .dataframe tbody tr th:only-of-type {\n",
       "        vertical-align: middle;\n",
       "    }\n",
       "\n",
       "    .dataframe tbody tr th {\n",
       "        vertical-align: top;\n",
       "    }\n",
       "\n",
       "    .dataframe thead th {\n",
       "        text-align: right;\n",
       "    }\n",
       "</style>\n",
       "<table border=\"1\" class=\"dataframe\">\n",
       "  <thead>\n",
       "    <tr style=\"text-align: right;\">\n",
       "      <th></th>\n",
       "      <th>tamanho</th>\n",
       "      <th>ano</th>\n",
       "      <th>garagem</th>\n",
       "      <th>preco</th>\n",
       "    </tr>\n",
       "  </thead>\n",
       "  <tbody>\n",
       "    <tr>\n",
       "      <th>0</th>\n",
       "      <td>159.0</td>\n",
       "      <td>2003</td>\n",
       "      <td>2</td>\n",
       "      <td>208500</td>\n",
       "    </tr>\n",
       "    <tr>\n",
       "      <th>1</th>\n",
       "      <td>117.0</td>\n",
       "      <td>1976</td>\n",
       "      <td>2</td>\n",
       "      <td>181500</td>\n",
       "    </tr>\n",
       "    <tr>\n",
       "      <th>2</th>\n",
       "      <td>166.0</td>\n",
       "      <td>2001</td>\n",
       "      <td>2</td>\n",
       "      <td>223500</td>\n",
       "    </tr>\n",
       "    <tr>\n",
       "      <th>3</th>\n",
       "      <td>160.0</td>\n",
       "      <td>1915</td>\n",
       "      <td>3</td>\n",
       "      <td>140000</td>\n",
       "    </tr>\n",
       "    <tr>\n",
       "      <th>4</th>\n",
       "      <td>204.0</td>\n",
       "      <td>2000</td>\n",
       "      <td>3</td>\n",
       "      <td>250000</td>\n",
       "    </tr>\n",
       "  </tbody>\n",
       "</table>\n",
       "</div>"
      ],
      "text/plain": [
       "   tamanho   ano  garagem   preco\n",
       "0    159.0  2003        2  208500\n",
       "1    117.0  1976        2  181500\n",
       "2    166.0  2001        2  223500\n",
       "3    160.0  1915        3  140000\n",
       "4    204.0  2000        3  250000"
      ]
     },
     "execution_count": 3,
     "metadata": {},
     "output_type": "execute_result"
    }
   ],
   "source": [
    "import pandas as pd\n",
    "\n",
    "processed_data_path = \"../data/processed/\"\n",
    "\n",
    "df = pd.read_csv(processed_data_path + \"casas.csv\")\n",
    "df.head()"
   ]
  },
  {
   "cell_type": "markdown",
   "metadata": {},
   "source": [
    "## Separando _features_ e _target_"
   ]
  },
  {
   "cell_type": "code",
   "execution_count": 4,
   "metadata": {},
   "outputs": [],
   "source": [
    "features = df.drop(columns=[\"preco\"])\n",
    "target = df[\"preco\"]"
   ]
  },
  {
   "cell_type": "markdown",
   "metadata": {},
   "source": [
    "## Separando em treino e teste"
   ]
  },
  {
   "cell_type": "code",
   "execution_count": 5,
   "metadata": {},
   "outputs": [],
   "source": [
    "from sklearn.model_selection import train_test_split\n",
    "\n",
    "SEED = 42\n",
    "\n",
    "features_train, features_test, target_train, target_test = train_test_split(features, target, test_size=0.3, random_state=SEED)"
   ]
  },
  {
   "cell_type": "markdown",
   "metadata": {},
   "source": [
    "## Configurando MLFlow"
   ]
  },
  {
   "cell_type": "code",
   "execution_count": 6,
   "metadata": {},
   "outputs": [],
   "source": [
    "import mlflow"
   ]
  },
  {
   "cell_type": "code",
   "execution_count": 7,
   "metadata": {},
   "outputs": [],
   "source": [
    "from mlflow.models import infer_signature"
   ]
  },
  {
   "cell_type": "markdown",
   "metadata": {},
   "source": [
    "### Login no MLFlow Tracking do Databricks"
   ]
  },
  {
   "cell_type": "code",
   "execution_count": 8,
   "metadata": {},
   "outputs": [
    {
     "name": "stderr",
     "output_type": "stream",
     "text": [
      "2024/07/29 14:38:59 INFO mlflow.utils.credentials: Successfully connected to MLflow hosted tracking server! Host: https://community.cloud.databricks.com.\n"
     ]
    }
   ],
   "source": [
    "mlflow.login()"
   ]
  },
  {
   "cell_type": "code",
   "execution_count": 9,
   "metadata": {},
   "outputs": [],
   "source": [
    "mlflow.set_tracking_uri(\"databricks\")"
   ]
  },
  {
   "cell_type": "markdown",
   "metadata": {},
   "source": [
    "### Definindo o experimento"
   ]
  },
  {
   "cell_type": "code",
   "execution_count": 10,
   "metadata": {},
   "outputs": [
    {
     "data": {
      "text/plain": [
       "<Experiment: artifact_location='dbfs:/databricks/mlflow-tracking/2842189901217684', creation_time=1722272429978, experiment_id='2842189901217684', last_update_time=1722272429978, lifecycle_stage='active', name='/Users/leandrosouza159@gmail.com/house-prices-eda', tags={'mlflow.experiment.sourceName': '/Users/leandrosouza159@gmail.com/house-prices-eda',\n",
       " 'mlflow.experimentType': 'MLFLOW_EXPERIMENT',\n",
       " 'mlflow.ownerEmail': 'leandrosouza159@gmail.com',\n",
       " 'mlflow.ownerId': '7181426075552825'}>"
      ]
     },
     "execution_count": 10,
     "metadata": {},
     "output_type": "execute_result"
    }
   ],
   "source": [
    "mlflow.set_experiment(\"/Users/leandrosouza159@gmail.com/house-prices-eda\")"
   ]
  },
  {
   "cell_type": "markdown",
   "metadata": {},
   "source": [
    "## Linear Regression"
   ]
  },
  {
   "cell_type": "code",
   "execution_count": 11,
   "metadata": {},
   "outputs": [],
   "source": [
    "from sklearn.linear_model import LinearRegression\n",
    "from sklearn.metrics import r2_score, root_mean_squared_error\n",
    "\n",
    "linear_regression = LinearRegression()\n",
    "linear_regression.fit(features_train, target_train)\n",
    "\n",
    "predicted = linear_regression.predict(features_test)\n",
    "\n",
    "r2 = r2_score(target_test, predicted)\n",
    "rmse = root_mean_squared_error(target_test, predicted)"
   ]
  },
  {
   "cell_type": "markdown",
   "metadata": {},
   "source": [
    "### Logging in MLFlow"
   ]
  },
  {
   "cell_type": "code",
   "execution_count": 13,
   "metadata": {},
   "outputs": [
    {
     "name": "stderr",
     "output_type": "stream",
     "text": [
      "/Users/leandrosouza/workspace/mlflow/.venv/lib/python3.12/site-packages/mlflow/types/utils.py:406: UserWarning: Hint: Inferred schema contains integer column(s). Integer columns in Python cannot represent missing values. If your input data contains missing values at inference time, it will be encoded as floats and will cause a schema enforcement error. The best way to avoid this problem is to infer the model schema based on a realistic data sample (training dataset) that includes missing values. Alternatively, you can declare integer columns as doubles (float64) whenever these columns may have missing values. See `Handling Integers With Missing Values <https://www.mlflow.org/docs/latest/models.html#handling-integers-with-missing-values>`_ for more details.\n",
      "  warnings.warn(\n",
      "2024/07/29 14:42:18 INFO mlflow.tracking._tracking_service.client: 🏃 View run traveling-sow-28 at: https://community.cloud.databricks.com/ml/experiments?o=352727760772812/ml/experiments/2842189901217684/runs/c2ff9826d1934556b490c142b212ec5e.\n",
      "2024/07/29 14:42:18 INFO mlflow.tracking._tracking_service.client: 🧪 View experiment at: https://community.cloud.databricks.com/ml/experiments?o=352727760772812/ml/experiments/2842189901217684.\n"
     ]
    }
   ],
   "source": [
    "with mlflow.start_run():\n",
    "\n",
    "    # Set a tag that we can use to remind ourselves what this run was for\n",
    "    mlflow.set_tag(\"Training Info\", \"Basic LR model for houses data\")\n",
    "\n",
    "    # Infer the model signature\n",
    "    signature = infer_signature(features_train, linear_regression.predict(features_train))\n",
    "\n",
    "    # Log the model\n",
    "    model_info = mlflow.sklearn.log_model(\n",
    "        sk_model=linear_regression,\n",
    "        artifact_path=\"houses\",\n",
    "        signature=signature,\n",
    "        input_example=features_train,\n",
    "    )\n",
    "\n",
    "    # Log metrics\n",
    "    mlflow.log_metric(\"r2\", r2)\n",
    "    mlflow.log_metric(\"rmse\", rmse)"
   ]
  },
  {
   "cell_type": "markdown",
   "metadata": {},
   "source": [
    "## XGBoost"
   ]
  },
  {
   "cell_type": "code",
   "execution_count": 17,
   "metadata": {},
   "outputs": [],
   "source": [
    "from xgboost import XGBRFRegressor\n",
    "\n",
    "xgb_params = {\n",
    "    \"learning_rate\": 0.1,\n",
    "    \"n_estimators\": 50,\n",
    "    \"random_state\": SEED\n",
    "}\n",
    "\n",
    "xgb = XGBRFRegressor(**xgb_params)\n",
    "xgb.fit(features_train, target_train)\n",
    "\n",
    "predicted = xgb.predict(features_test)\n",
    "\n",
    "r2 = r2_score(target_test, predicted)\n",
    "rmse = root_mean_squared_error(target_test, predicted)"
   ]
  },
  {
   "cell_type": "markdown",
   "metadata": {},
   "source": [
    "### Logging"
   ]
  },
  {
   "cell_type": "code",
   "execution_count": 18,
   "metadata": {},
   "outputs": [
    {
     "name": "stderr",
     "output_type": "stream",
     "text": [
      "/Users/leandrosouza/workspace/mlflow/.venv/lib/python3.12/site-packages/mlflow/types/utils.py:406: UserWarning: Hint: Inferred schema contains integer column(s). Integer columns in Python cannot represent missing values. If your input data contains missing values at inference time, it will be encoded as floats and will cause a schema enforcement error. The best way to avoid this problem is to infer the model schema based on a realistic data sample (training dataset) that includes missing values. Alternatively, you can declare integer columns as doubles (float64) whenever these columns may have missing values. See `Handling Integers With Missing Values <https://www.mlflow.org/docs/latest/models.html#handling-integers-with-missing-values>`_ for more details.\n",
      "  warnings.warn(\n",
      "[14:59:28] WARNING: /Users/runner/work/xgboost/xgboost/src/c_api/c_api.cc:1374: Saving model in the UBJSON format as default.  You can use file extension: `json`, `ubj` or `deprecated` to choose between formats.\n",
      "2024/07/29 14:59:45 INFO mlflow.tracking._tracking_service.client: 🏃 View run XGBRFRegressor-02 at: https://community.cloud.databricks.com/ml/experiments?o=352727760772812/ml/experiments/2842189901217684/runs/dda898b2e091453f8a8d123a1d683228.\n",
      "2024/07/29 14:59:45 INFO mlflow.tracking._tracking_service.client: 🧪 View experiment at: https://community.cloud.databricks.com/ml/experiments?o=352727760772812/ml/experiments/2842189901217684.\n"
     ]
    }
   ],
   "source": [
    "with mlflow.start_run(run_name=\"XGBRFRegressor-02\"):\n",
    "\n",
    "    # Log the hyperparameters\n",
    "    mlflow.log_params(xgb_params)\n",
    "\n",
    "    # Set a tag that we can use to remind ourselves what this run was for\n",
    "    mlflow.set_tag(\"Training Info\", \"Basic XGBRFRegressor model for houses data\")\n",
    "\n",
    "    # Infer the model signature\n",
    "    signature = infer_signature(features_train, xgb.predict(features_train))\n",
    "\n",
    "    # Log the model\n",
    "    model_info = mlflow.xgboost.log_model(\n",
    "        xgb_model=xgb,\n",
    "        artifact_path=\"houses\",\n",
    "        signature=signature,\n",
    "        input_example=features_train,\n",
    "    )\n",
    "\n",
    "    # Log metrics\n",
    "    mlflow.log_metric(\"r2\", r2)\n",
    "    mlflow.log_metric(\"rmse\", rmse)"
   ]
  },
  {
   "cell_type": "markdown",
   "metadata": {},
   "source": [
    "## Obtendo informações do MLFlow Tracking"
   ]
  },
  {
   "cell_type": "code",
   "execution_count": 21,
   "metadata": {},
   "outputs": [
    {
     "data": {
      "text/plain": [
       "<Experiment: artifact_location='dbfs:/databricks/mlflow-tracking/2842189901217684', creation_time=1722272429978, experiment_id='2842189901217684', last_update_time=1722275965438, lifecycle_stage='active', name='/Users/leandrosouza159@gmail.com/house-prices-eda', tags={'mlflow.experiment.sourceName': '/Users/leandrosouza159@gmail.com/house-prices-eda',\n",
       " 'mlflow.experimentType': 'MLFLOW_EXPERIMENT',\n",
       " 'mlflow.ownerEmail': 'leandrosouza159@gmail.com',\n",
       " 'mlflow.ownerId': '7181426075552825'}>"
      ]
     },
     "execution_count": 21,
     "metadata": {},
     "output_type": "execute_result"
    }
   ],
   "source": [
    "experiment = mlflow.get_experiment_by_name(\"/Users/leandrosouza159@gmail.com/house-prices-eda\")\n",
    "experiment"
   ]
  },
  {
   "cell_type": "code",
   "execution_count": 22,
   "metadata": {},
   "outputs": [
    {
     "data": {
      "text/html": [
       "<div>\n",
       "<style scoped>\n",
       "    .dataframe tbody tr th:only-of-type {\n",
       "        vertical-align: middle;\n",
       "    }\n",
       "\n",
       "    .dataframe tbody tr th {\n",
       "        vertical-align: top;\n",
       "    }\n",
       "\n",
       "    .dataframe thead th {\n",
       "        text-align: right;\n",
       "    }\n",
       "</style>\n",
       "<table border=\"1\" class=\"dataframe\">\n",
       "  <thead>\n",
       "    <tr style=\"text-align: right;\">\n",
       "      <th></th>\n",
       "      <th>run_id</th>\n",
       "      <th>experiment_id</th>\n",
       "      <th>status</th>\n",
       "      <th>artifact_uri</th>\n",
       "      <th>start_time</th>\n",
       "      <th>end_time</th>\n",
       "      <th>metrics.r2</th>\n",
       "      <th>metrics.rmse</th>\n",
       "      <th>params.n_estimators</th>\n",
       "      <th>params.random_state</th>\n",
       "      <th>params.learning_rate</th>\n",
       "      <th>tags.mlflow.runName</th>\n",
       "      <th>tags.mlflow.source.type</th>\n",
       "      <th>tags.mlflow.source.name</th>\n",
       "      <th>tags.mlflow.user</th>\n",
       "      <th>tags.mlflow.log-model.history</th>\n",
       "      <th>tags.Training Info</th>\n",
       "    </tr>\n",
       "  </thead>\n",
       "  <tbody>\n",
       "    <tr>\n",
       "      <th>0</th>\n",
       "      <td>dda898b2e091453f8a8d123a1d683228</td>\n",
       "      <td>2842189901217684</td>\n",
       "      <td>FINISHED</td>\n",
       "      <td>dbfs:/databricks/mlflow-tracking/2842189901217...</td>\n",
       "      <td>2024-07-29 17:59:25.438000+00:00</td>\n",
       "      <td>2024-07-29 17:59:44.855000+00:00</td>\n",
       "      <td>0.149491</td>\n",
       "      <td>77038.506312</td>\n",
       "      <td>50</td>\n",
       "      <td>42</td>\n",
       "      <td>0.1</td>\n",
       "      <td>XGBRFRegressor-02</td>\n",
       "      <td>LOCAL</td>\n",
       "      <td>/Users/leandrosouza/workspace/mlflow/.venv/lib...</td>\n",
       "      <td>leandrosouza159@gmail.com</td>\n",
       "      <td>[{\"artifact_path\":\"houses\",\"saved_input_exampl...</td>\n",
       "      <td>Basic XGBRFRegressor model for houses data</td>\n",
       "    </tr>\n",
       "    <tr>\n",
       "      <th>1</th>\n",
       "      <td>38e899a5ad4f4b369cb673a6833c2f0f</td>\n",
       "      <td>2842189901217684</td>\n",
       "      <td>FINISHED</td>\n",
       "      <td>dbfs:/databricks/mlflow-tracking/2842189901217...</td>\n",
       "      <td>2024-07-29 17:50:24.417000+00:00</td>\n",
       "      <td>2024-07-29 17:50:42.288000+00:00</td>\n",
       "      <td>0.283944</td>\n",
       "      <td>70687.397202</td>\n",
       "      <td>None</td>\n",
       "      <td>None</td>\n",
       "      <td>None</td>\n",
       "      <td>XGBRFRegressor-01</td>\n",
       "      <td>LOCAL</td>\n",
       "      <td>/Users/leandrosouza/workspace/mlflow/.venv/lib...</td>\n",
       "      <td>leandrosouza159@gmail.com</td>\n",
       "      <td>[{\"artifact_path\":\"houses\",\"saved_input_exampl...</td>\n",
       "      <td>Basic XGBRFRegressor model for houses data</td>\n",
       "    </tr>\n",
       "    <tr>\n",
       "      <th>2</th>\n",
       "      <td>c2ff9826d1934556b490c142b212ec5e</td>\n",
       "      <td>2842189901217684</td>\n",
       "      <td>FINISHED</td>\n",
       "      <td>dbfs:/databricks/mlflow-tracking/2842189901217...</td>\n",
       "      <td>2024-07-29 17:41:58.837000+00:00</td>\n",
       "      <td>2024-07-29 17:42:17.372000+00:00</td>\n",
       "      <td>0.702115</td>\n",
       "      <td>45592.399783</td>\n",
       "      <td>None</td>\n",
       "      <td>None</td>\n",
       "      <td>None</td>\n",
       "      <td>LR-01</td>\n",
       "      <td>LOCAL</td>\n",
       "      <td>/Users/leandrosouza/workspace/mlflow/.venv/lib...</td>\n",
       "      <td>leandrosouza159@gmail.com</td>\n",
       "      <td>[{\"artifact_path\":\"houses\",\"saved_input_exampl...</td>\n",
       "      <td>Basic LR model for houses data</td>\n",
       "    </tr>\n",
       "  </tbody>\n",
       "</table>\n",
       "</div>"
      ],
      "text/plain": [
       "                             run_id     experiment_id    status  \\\n",
       "0  dda898b2e091453f8a8d123a1d683228  2842189901217684  FINISHED   \n",
       "1  38e899a5ad4f4b369cb673a6833c2f0f  2842189901217684  FINISHED   \n",
       "2  c2ff9826d1934556b490c142b212ec5e  2842189901217684  FINISHED   \n",
       "\n",
       "                                        artifact_uri  \\\n",
       "0  dbfs:/databricks/mlflow-tracking/2842189901217...   \n",
       "1  dbfs:/databricks/mlflow-tracking/2842189901217...   \n",
       "2  dbfs:/databricks/mlflow-tracking/2842189901217...   \n",
       "\n",
       "                        start_time                         end_time  \\\n",
       "0 2024-07-29 17:59:25.438000+00:00 2024-07-29 17:59:44.855000+00:00   \n",
       "1 2024-07-29 17:50:24.417000+00:00 2024-07-29 17:50:42.288000+00:00   \n",
       "2 2024-07-29 17:41:58.837000+00:00 2024-07-29 17:42:17.372000+00:00   \n",
       "\n",
       "   metrics.r2  metrics.rmse params.n_estimators params.random_state  \\\n",
       "0    0.149491  77038.506312                  50                  42   \n",
       "1    0.283944  70687.397202                None                None   \n",
       "2    0.702115  45592.399783                None                None   \n",
       "\n",
       "  params.learning_rate tags.mlflow.runName tags.mlflow.source.type  \\\n",
       "0                  0.1   XGBRFRegressor-02                   LOCAL   \n",
       "1                 None   XGBRFRegressor-01                   LOCAL   \n",
       "2                 None               LR-01                   LOCAL   \n",
       "\n",
       "                             tags.mlflow.source.name  \\\n",
       "0  /Users/leandrosouza/workspace/mlflow/.venv/lib...   \n",
       "1  /Users/leandrosouza/workspace/mlflow/.venv/lib...   \n",
       "2  /Users/leandrosouza/workspace/mlflow/.venv/lib...   \n",
       "\n",
       "            tags.mlflow.user  \\\n",
       "0  leandrosouza159@gmail.com   \n",
       "1  leandrosouza159@gmail.com   \n",
       "2  leandrosouza159@gmail.com   \n",
       "\n",
       "                       tags.mlflow.log-model.history  \\\n",
       "0  [{\"artifact_path\":\"houses\",\"saved_input_exampl...   \n",
       "1  [{\"artifact_path\":\"houses\",\"saved_input_exampl...   \n",
       "2  [{\"artifact_path\":\"houses\",\"saved_input_exampl...   \n",
       "\n",
       "                           tags.Training Info  \n",
       "0  Basic XGBRFRegressor model for houses data  \n",
       "1  Basic XGBRFRegressor model for houses data  \n",
       "2              Basic LR model for houses data  "
      ]
     },
     "execution_count": 22,
     "metadata": {},
     "output_type": "execute_result"
    }
   ],
   "source": [
    "runs = mlflow.search_runs(experiment_ids=[\"2842189901217684\"])\n",
    "runs"
   ]
  },
  {
   "cell_type": "code",
   "execution_count": 23,
   "metadata": {},
   "outputs": [
    {
     "data": {
      "text/plain": [
       "<Run: data=<RunData: metrics={'r2': 0.14949095249176025, 'rmse': 77038.50631181702}, params={'learning_rate': '0.1', 'n_estimators': '50', 'random_state': '42'}, tags={'Training Info': 'Basic XGBRFRegressor model for houses data',\n",
       " 'mlflow.log-model.history': '[{\"artifact_path\":\"houses\",\"saved_input_example_info\":{\"artifact_path\":\"input_example.json\",\"type\":\"dataframe\",\"pandas_orient\":\"split\",\"serving_input_path\":\"serving_input_payload.json\"},\"signature\":{\"inputs\":\"[{\\\\\"type\\\\\": '\n",
       "                             '\\\\\"double\\\\\", \\\\\"name\\\\\": \\\\\"tamanho\\\\\", '\n",
       "                             '\\\\\"required\\\\\": true}, {\\\\\"type\\\\\": \\\\\"long\\\\\", '\n",
       "                             '\\\\\"name\\\\\": \\\\\"ano\\\\\", \\\\\"required\\\\\": true}, '\n",
       "                             '{\\\\\"type\\\\\": \\\\\"long\\\\\", \\\\\"name\\\\\": '\n",
       "                             '\\\\\"garagem\\\\\", \\\\\"required\\\\\": '\n",
       "                             'true}]\",\"outputs\":\"[{\\\\\"type\\\\\": \\\\\"tensor\\\\\", '\n",
       "                             '\\\\\"tensor-spec\\\\\": {\\\\\"dtype\\\\\": \\\\\"float32\\\\\", '\n",
       "                             '\\\\\"shape\\\\\": '\n",
       "                             '[-1]}}]\",\"params\":null},\"flavors\":{\"python_function\":{\"loader_module\":\"mlflow.xgboost\",\"python_version\":\"3.12.3\",\"data\":\"model.xgb\",\"env\":{\"conda\":\"conda.yaml\",\"virtualenv\":\"python_env.yaml\"}},\"xgboost\":{\"model_format\":\"xgb\",\"model_class\":\"xgboost.sklearn.XGBRFRegressor\",\"data\":\"model.xgb\",\"xgb_version\":\"2.1.0\",\"code\":null}},\"run_id\":\"dda898b2e091453f8a8d123a1d683228\",\"model_uuid\":\"e600a0148357498cb9b621e2f654de0e\",\"model_size_bytes\":294306,\"utc_time_created\":\"2024-07-29 '\n",
       "                             '17:59:28.798160\",\"mlflow_version\":\"2.15.0\"}]',\n",
       " 'mlflow.runName': 'XGBRFRegressor-02',\n",
       " 'mlflow.source.name': '/Users/leandrosouza/workspace/mlflow/.venv/lib/python3.12/site-packages/ipykernel_launcher.py',\n",
       " 'mlflow.source.type': 'LOCAL',\n",
       " 'mlflow.user': 'leandrosouza159@gmail.com'}>, info=<RunInfo: artifact_uri='dbfs:/databricks/mlflow-tracking/2842189901217684/dda898b2e091453f8a8d123a1d683228/artifacts', end_time=1722275984855, experiment_id='2842189901217684', lifecycle_stage='active', run_id='dda898b2e091453f8a8d123a1d683228', run_name='XGBRFRegressor-02', run_uuid='dda898b2e091453f8a8d123a1d683228', start_time=1722275965438, status='FINISHED', user_id=''>, inputs=<RunInputs: dataset_inputs=[]>>"
      ]
     },
     "execution_count": 23,
     "metadata": {},
     "output_type": "execute_result"
    }
   ],
   "source": [
    "run = mlflow.get_run(\"dda898b2e091453f8a8d123a1d683228\")\n",
    "run"
   ]
  },
  {
   "cell_type": "code",
   "execution_count": null,
   "metadata": {},
   "outputs": [],
   "source": []
  }
 ],
 "metadata": {
  "kernelspec": {
   "display_name": ".venv",
   "language": "python",
   "name": "python3"
  },
  "language_info": {
   "codemirror_mode": {
    "name": "ipython",
    "version": 3
   },
   "file_extension": ".py",
   "mimetype": "text/x-python",
   "name": "python",
   "nbconvert_exporter": "python",
   "pygments_lexer": "ipython3",
   "version": "3.12.3"
  }
 },
 "nbformat": 4,
 "nbformat_minor": 2
}
